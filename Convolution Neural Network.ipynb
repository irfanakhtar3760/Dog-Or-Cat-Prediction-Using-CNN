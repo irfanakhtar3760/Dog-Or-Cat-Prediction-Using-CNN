{
 "cells": [
  {
   "cell_type": "code",
   "execution_count": 1,
   "id": "d2a63445",
   "metadata": {},
   "outputs": [],
   "source": [
    "import tensorflow as tf\n",
    "import keras"
   ]
  },
  {
   "cell_type": "markdown",
   "id": "7d0e9183",
   "metadata": {},
   "source": [
    "# Image Data PreProcessing"
   ]
  },
  {
   "cell_type": "code",
   "execution_count": 3,
   "id": "cff55c5d",
   "metadata": {},
   "outputs": [],
   "source": [
    "from keras.preprocessing.image import ImageDataGenerator"
   ]
  },
  {
   "cell_type": "markdown",
   "id": "72e0ee5b",
   "metadata": {},
   "source": [
    "# Preprocessing The Training Set"
   ]
  },
  {
   "cell_type": "code",
   "execution_count": 5,
   "id": "896559cc",
   "metadata": {},
   "outputs": [
    {
     "name": "stdout",
     "output_type": "stream",
     "text": [
      "Found 8048 images belonging to 2 classes.\n"
     ]
    }
   ],
   "source": [
    "gen=ImageDataGenerator(rescale=1/255,shear_range=0.2,zoom_range=0.2)\n",
    "training_set=gen.flow_from_directory('E:\\Srk Datasets\\dataset\\\\training_set',target_size=(64,64),class_mode='binary')"
   ]
  },
  {
   "cell_type": "code",
   "execution_count": 6,
   "id": "b3d0383c",
   "metadata": {},
   "outputs": [
    {
     "data": {
      "text/plain": [
       "{'cats': 0, 'dogs': 1}"
      ]
     },
     "execution_count": 6,
     "metadata": {},
     "output_type": "execute_result"
    }
   ],
   "source": [
    "training_set.class_indices"
   ]
  },
  {
   "cell_type": "markdown",
   "id": "c6243b56",
   "metadata": {},
   "source": [
    "# Preprocessing the Test Set"
   ]
  },
  {
   "cell_type": "code",
   "execution_count": 7,
   "id": "f56474bd",
   "metadata": {},
   "outputs": [
    {
     "name": "stdout",
     "output_type": "stream",
     "text": [
      "Found 2000 images belonging to 2 classes.\n"
     ]
    }
   ],
   "source": [
    "test_datagen=ImageDataGenerator(rescale=1/255)\n",
    "test_set=test_datagen.flow_from_directory('E:\\Srk Datasets\\dataset\\\\test_set',target_size=(64,64),class_mode='binary')"
   ]
  },
  {
   "cell_type": "markdown",
   "id": "c9d61011",
   "metadata": {},
   "source": [
    "# Modeling"
   ]
  },
  {
   "cell_type": "markdown",
   "id": "032f8e4d",
   "metadata": {},
   "source": [
    "## Build The convolution neural network"
   ]
  },
  {
   "cell_type": "code",
   "execution_count": 8,
   "id": "96dd0e90",
   "metadata": {},
   "outputs": [],
   "source": [
    "from keras.models import Sequential\n",
    "classifier=Sequential()"
   ]
  },
  {
   "cell_type": "markdown",
   "id": "1814fba3",
   "metadata": {},
   "source": [
    "## Step-1 Convolution"
   ]
  },
  {
   "cell_type": "code",
   "execution_count": 11,
   "id": "4f4a14a7",
   "metadata": {},
   "outputs": [],
   "source": [
    "from keras.layers import Conv2D\n",
    "classifier.add(Conv2D(filters=32,kernel_size=3,activation='relu',input_shape=[64,64,3]))"
   ]
  },
  {
   "cell_type": "markdown",
   "id": "ca51655d",
   "metadata": {},
   "source": [
    "## step-2 Pooling"
   ]
  },
  {
   "cell_type": "code",
   "execution_count": 14,
   "id": "5cf4731d",
   "metadata": {},
   "outputs": [],
   "source": [
    "from keras.layers import MaxPooling2D\n",
    "classifier.add(MaxPooling2D(pool_size=2,strides=2))"
   ]
  },
  {
   "cell_type": "markdown",
   "id": "c28ac09a",
   "metadata": {},
   "source": [
    "## Adding a Second convolution layer"
   ]
  },
  {
   "cell_type": "code",
   "execution_count": 15,
   "id": "39556527",
   "metadata": {},
   "outputs": [],
   "source": [
    "classifier.add(Conv2D(filters=32,kernel_size=3,activation='relu',input_shape=[64,64,3]))\n",
    "classifier.add(MaxPooling2D(pool_size=2,strides=2))"
   ]
  },
  {
   "cell_type": "markdown",
   "id": "6f0c8486",
   "metadata": {},
   "source": [
    "## Flattening"
   ]
  },
  {
   "cell_type": "code",
   "execution_count": 16,
   "id": "7d3da393",
   "metadata": {},
   "outputs": [],
   "source": [
    "from keras.layers import Flatten\n",
    "classifier.add(Flatten())"
   ]
  },
  {
   "cell_type": "markdown",
   "id": "148ecd2b",
   "metadata": {},
   "source": [
    "## Full Conection"
   ]
  },
  {
   "cell_type": "code",
   "execution_count": 17,
   "id": "f392a43d",
   "metadata": {},
   "outputs": [],
   "source": [
    "from keras.layers import Dense\n",
    "classifier.add(Dense(units=128,activation='relu'))\n",
    "classifier.add(Dense(units=1,activation='sigmoid'))"
   ]
  },
  {
   "cell_type": "markdown",
   "id": "1e31ef00",
   "metadata": {},
   "source": [
    "## Compiling the CNN"
   ]
  },
  {
   "cell_type": "code",
   "execution_count": 20,
   "id": "dfd35ce3",
   "metadata": {},
   "outputs": [],
   "source": [
    "classifier.compile(optimizer='adam',loss='binary_crossentropy',metrics=['accuracy'])"
   ]
  },
  {
   "cell_type": "markdown",
   "id": "f5434de8",
   "metadata": {},
   "source": [
    "## Training the CNN model With Train data"
   ]
  },
  {
   "cell_type": "code",
   "execution_count": 21,
   "id": "aacfe3de",
   "metadata": {},
   "outputs": [
    {
     "name": "stdout",
     "output_type": "stream",
     "text": [
      "Epoch 1/25\n",
      "252/252 [==============================] - 342s 1s/step - loss: 0.6714 - accuracy: 0.5779 - val_loss: 0.6208 - val_accuracy: 0.6590\n",
      "Epoch 2/25\n",
      "252/252 [==============================] - 79s 312ms/step - loss: 0.6028 - accuracy: 0.6722 - val_loss: 0.5724 - val_accuracy: 0.7090\n",
      "Epoch 3/25\n",
      "252/252 [==============================] - 88s 348ms/step - loss: 0.5736 - accuracy: 0.6956 - val_loss: 0.5417 - val_accuracy: 0.7330\n",
      "Epoch 4/25\n",
      "252/252 [==============================] - 83s 328ms/step - loss: 0.5272 - accuracy: 0.7383 - val_loss: 0.5232 - val_accuracy: 0.7445\n",
      "Epoch 5/25\n",
      "252/252 [==============================] - 85s 338ms/step - loss: 0.4984 - accuracy: 0.7568 - val_loss: 0.5329 - val_accuracy: 0.7210\n",
      "Epoch 6/25\n",
      "252/252 [==============================] - 86s 341ms/step - loss: 0.4844 - accuracy: 0.7659 - val_loss: 0.5044 - val_accuracy: 0.7530\n",
      "Epoch 7/25\n",
      "252/252 [==============================] - 82s 323ms/step - loss: 0.4619 - accuracy: 0.7801 - val_loss: 0.4875 - val_accuracy: 0.7700\n",
      "Epoch 8/25\n",
      "252/252 [==============================] - 83s 330ms/step - loss: 0.4411 - accuracy: 0.8001 - val_loss: 0.5014 - val_accuracy: 0.7735\n",
      "Epoch 9/25\n",
      "252/252 [==============================] - 86s 342ms/step - loss: 0.4257 - accuracy: 0.8001 - val_loss: 0.5282 - val_accuracy: 0.7565\n",
      "Epoch 10/25\n",
      "252/252 [==============================] - 88s 350ms/step - loss: 0.3989 - accuracy: 0.8155 - val_loss: 0.4874 - val_accuracy: 0.7810\n",
      "Epoch 11/25\n",
      "252/252 [==============================] - 86s 343ms/step - loss: 0.3925 - accuracy: 0.8196 - val_loss: 0.5076 - val_accuracy: 0.7575\n",
      "Epoch 12/25\n",
      "252/252 [==============================] - 88s 350ms/step - loss: 0.3713 - accuracy: 0.8351 - val_loss: 0.4970 - val_accuracy: 0.7760\n",
      "Epoch 13/25\n",
      "252/252 [==============================] - 85s 339ms/step - loss: 0.3499 - accuracy: 0.8388 - val_loss: 0.5117 - val_accuracy: 0.7755\n",
      "Epoch 14/25\n",
      "252/252 [==============================] - 86s 339ms/step - loss: 0.3305 - accuracy: 0.8556 - val_loss: 0.5512 - val_accuracy: 0.7610\n",
      "Epoch 15/25\n",
      "252/252 [==============================] - 86s 341ms/step - loss: 0.3143 - accuracy: 0.8611 - val_loss: 0.5122 - val_accuracy: 0.7865\n",
      "Epoch 16/25\n",
      "252/252 [==============================] - 89s 355ms/step - loss: 0.3033 - accuracy: 0.8674 - val_loss: 0.5189 - val_accuracy: 0.7910\n",
      "Epoch 17/25\n",
      "252/252 [==============================] - 82s 325ms/step - loss: 0.2829 - accuracy: 0.8767 - val_loss: 0.5371 - val_accuracy: 0.7745\n",
      "Epoch 18/25\n",
      "252/252 [==============================] - 87s 346ms/step - loss: 0.2644 - accuracy: 0.8887 - val_loss: 0.5497 - val_accuracy: 0.7840\n",
      "Epoch 19/25\n",
      "252/252 [==============================] - 87s 345ms/step - loss: 0.2427 - accuracy: 0.8987 - val_loss: 0.5781 - val_accuracy: 0.7665\n",
      "Epoch 20/25\n",
      "252/252 [==============================] - 84s 334ms/step - loss: 0.2386 - accuracy: 0.9017 - val_loss: 0.5905 - val_accuracy: 0.7725\n",
      "Epoch 21/25\n",
      "252/252 [==============================] - 81s 321ms/step - loss: 0.2187 - accuracy: 0.9068 - val_loss: 0.5862 - val_accuracy: 0.7800\n",
      "Epoch 22/25\n",
      "252/252 [==============================] - 86s 343ms/step - loss: 0.2050 - accuracy: 0.9145 - val_loss: 0.6590 - val_accuracy: 0.7720\n",
      "Epoch 23/25\n",
      "252/252 [==============================] - 85s 336ms/step - loss: 0.2013 - accuracy: 0.9184 - val_loss: 0.6484 - val_accuracy: 0.7810\n",
      "Epoch 24/25\n",
      "252/252 [==============================] - 88s 348ms/step - loss: 0.1823 - accuracy: 0.9237 - val_loss: 0.7310 - val_accuracy: 0.7560\n",
      "Epoch 25/25\n",
      "252/252 [==============================] - 82s 324ms/step - loss: 0.1617 - accuracy: 0.9364 - val_loss: 0.6789 - val_accuracy: 0.7785\n"
     ]
    },
    {
     "data": {
      "text/plain": [
       "<keras.callbacks.History at 0x18cd5664190>"
      ]
     },
     "execution_count": 21,
     "metadata": {},
     "output_type": "execute_result"
    }
   ],
   "source": [
    "classifier.fit(x=training_set,validation_data=test_set,epochs=25)"
   ]
  },
  {
   "cell_type": "markdown",
   "id": "bb3c3e6c",
   "metadata": {},
   "source": [
    "## Evolution"
   ]
  },
  {
   "cell_type": "markdown",
   "id": "11936925",
   "metadata": {},
   "source": [
    "## Making single prediction"
   ]
  },
  {
   "cell_type": "code",
   "execution_count": 22,
   "id": "fac35baa",
   "metadata": {},
   "outputs": [],
   "source": [
    "import numpy as np\n",
    "from PIL import Image"
   ]
  },
  {
   "cell_type": "code",
   "execution_count": 25,
   "id": "4b14da62",
   "metadata": {},
   "outputs": [],
   "source": [
    "test_image=Image.open(\"E:\\Srk Datasets\\\\dataset\\\\single_prediction\\\\cat_or_dog_2.jpg\")\n",
    "test_image=test_image.resize((64,64))\n",
    "test_image=np.array(test_image)\n",
    "test_image=np.expand_dims(test_image,axis=0)"
   ]
  },
  {
   "cell_type": "code",
   "execution_count": 26,
   "id": "1713f23a",
   "metadata": {},
   "outputs": [
    {
     "name": "stdout",
     "output_type": "stream",
     "text": [
      "1/1 [==============================] - 0s 367ms/step\n",
      "Cat\n"
     ]
    }
   ],
   "source": [
    "result=classifier.predict(test_image)\n",
    "if result[0][0]==1:\n",
    "    print('Dog')\n",
    "else:\n",
    "    print('Cat')"
   ]
  },
  {
   "cell_type": "code",
   "execution_count": 27,
   "id": "54f5f63e",
   "metadata": {},
   "outputs": [],
   "source": [
    "test_image=Image.open(\"E:\\Srk Datasets\\\\dataset\\\\single_prediction\\\\cat_or_dog_1.jpg\")\n",
    "test_image=test_image.resize((64,64))\n",
    "test_image=np.array(test_image)\n",
    "test_image=np.expand_dims(test_image,axis=0)"
   ]
  },
  {
   "cell_type": "code",
   "execution_count": 28,
   "id": "100b4177",
   "metadata": {},
   "outputs": [
    {
     "name": "stdout",
     "output_type": "stream",
     "text": [
      "1/1 [==============================] - 0s 82ms/step\n",
      "Dog\n"
     ]
    }
   ],
   "source": [
    "result=classifier.predict(test_image)\n",
    "if result[0][0]==1:\n",
    "    print('Dog')\n",
    "else:\n",
    "    print('Cat')"
   ]
  },
  {
   "cell_type": "code",
   "execution_count": null,
   "id": "095bf20e",
   "metadata": {},
   "outputs": [],
   "source": []
  }
 ],
 "metadata": {
  "kernelspec": {
   "display_name": "Python 3 (ipykernel)",
   "language": "python",
   "name": "python3"
  },
  "language_info": {
   "codemirror_mode": {
    "name": "ipython",
    "version": 3
   },
   "file_extension": ".py",
   "mimetype": "text/x-python",
   "name": "python",
   "nbconvert_exporter": "python",
   "pygments_lexer": "ipython3",
   "version": "3.9.13"
  }
 },
 "nbformat": 4,
 "nbformat_minor": 5
}
